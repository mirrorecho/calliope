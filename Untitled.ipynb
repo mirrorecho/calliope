{
 "cells": [
  {
   "cell_type": "code",
   "execution_count": 1,
   "metadata": {
    "collapsed": false
   },
   "outputs": [
    {
     "name": "stdout",
     "output_type": "stream",
     "text": [
      "/Users/randallwest/Code/mirrorecho/calliope/calliope/bubbles/line_talea.py\n",
      "<ipython-input-1-5512031b1f9e>\n"
     ]
    },
    {
     "ename": "AttributeError",
     "evalue": "'NoneType' object has no attribute '__dict__'",
     "output_type": "error",
     "traceback": [
      "\u001b[0;31m---------------------------------------------------------------------------\u001b[0m",
      "\u001b[0;31mAttributeError\u001b[0m                            Traceback (most recent call last)",
      "\u001b[0;32m<ipython-input-1-5512031b1f9e>\u001b[0m in \u001b[0;36m<module>\u001b[0;34m()\u001b[0m\n\u001b[1;32m     46\u001b[0m \u001b[0;31m# -------------------------------\u001b[0m\u001b[0;34m\u001b[0m\u001b[0;34m\u001b[0m\u001b[0m\n\u001b[1;32m     47\u001b[0m \u001b[0;34m\u001b[0m\u001b[0m\n\u001b[0;32m---> 48\u001b[0;31m \u001b[0mtools\u001b[0m\u001b[0;34m.\u001b[0m\u001b[0millustrate_me\u001b[0m\u001b[0;34m(\u001b[0m\u001b[0mscore_type\u001b[0m\u001b[0;34m=\u001b[0m\u001b[0mMyScore1\u001b[0m \u001b[0;34m)\u001b[0m\u001b[0;34m\u001b[0m\u001b[0m\n\u001b[0m\u001b[1;32m     49\u001b[0m \u001b[0;34m\u001b[0m\u001b[0m\n",
      "\u001b[0;32m/Users/randallwest/Code/mirrorecho/calliope/calliope/tools/basic.py\u001b[0m in \u001b[0;36millustrate_me\u001b[0;34m(bubble, filename, subfolder, score_type, as_pdf, open_pdf, as_midi)\u001b[0m\n\u001b[1;32m     28\u001b[0m \u001b[0;34m\u001b[0m\u001b[0m\n\u001b[1;32m     29\u001b[0m         \u001b[0;32mif\u001b[0m \u001b[0;32mnot\u001b[0m \u001b[0mbubble\u001b[0m\u001b[0;34m:\u001b[0m\u001b[0;34m\u001b[0m\u001b[0m\n\u001b[0;32m---> 30\u001b[0;31m             \u001b[0mbubble\u001b[0m \u001b[0;34m=\u001b[0m \u001b[0mbubbles\u001b[0m\u001b[0;34m.\u001b[0m\u001b[0mModuleBubble\u001b[0m\u001b[0;34m(\u001b[0m\u001b[0mcalling_module\u001b[0m\u001b[0;34m)\u001b[0m\u001b[0;34m\u001b[0m\u001b[0m\n\u001b[0m\u001b[1;32m     31\u001b[0m         \u001b[0;32melif\u001b[0m \u001b[0minspect\u001b[0m\u001b[0;34m.\u001b[0m\u001b[0misclass\u001b[0m\u001b[0;34m(\u001b[0m\u001b[0mbubble\u001b[0m\u001b[0;34m)\u001b[0m\u001b[0;34m:\u001b[0m\u001b[0;34m\u001b[0m\u001b[0m\n\u001b[1;32m     32\u001b[0m             \u001b[0mbubble\u001b[0m \u001b[0;34m=\u001b[0m \u001b[0mbubble\u001b[0m\u001b[0;34m(\u001b[0m\u001b[0;34m)\u001b[0m\u001b[0;34m\u001b[0m\u001b[0m\n",
      "\u001b[0;32m/Users/randallwest/Code/mirrorecho/calliope/calliope/bubbles/score.py\u001b[0m in \u001b[0;36m__init__\u001b[0;34m(self, module, **kwargs)\u001b[0m\n\u001b[1;32m     56\u001b[0m         \u001b[0msuper\u001b[0m\u001b[0;34m(\u001b[0m\u001b[0;34m)\u001b[0m\u001b[0;34m.\u001b[0m\u001b[0m__init__\u001b[0m\u001b[0;34m(\u001b[0m\u001b[0;34m**\u001b[0m\u001b[0mkwargs\u001b[0m\u001b[0;34m)\u001b[0m\u001b[0;34m\u001b[0m\u001b[0m\n\u001b[1;32m     57\u001b[0m         \u001b[0mself\u001b[0m\u001b[0;34m.\u001b[0m\u001b[0mmodule\u001b[0m \u001b[0;34m=\u001b[0m \u001b[0mmodule\u001b[0m\u001b[0;34m\u001b[0m\u001b[0m\n\u001b[0;32m---> 58\u001b[0;31m         \u001b[0;32mfor\u001b[0m \u001b[0mn\u001b[0m\u001b[0;34m,\u001b[0m \u001b[0mo\u001b[0m \u001b[0;32min\u001b[0m \u001b[0mself\u001b[0m\u001b[0;34m.\u001b[0m\u001b[0mmodule\u001b[0m\u001b[0;34m.\u001b[0m\u001b[0m__dict__\u001b[0m\u001b[0;34m.\u001b[0m\u001b[0mitems\u001b[0m\u001b[0;34m(\u001b[0m\u001b[0;34m)\u001b[0m\u001b[0;34m:\u001b[0m\u001b[0;34m\u001b[0m\u001b[0m\n\u001b[0m\u001b[1;32m     59\u001b[0m             \u001b[0;32mif\u001b[0m \u001b[0mbubbles\u001b[0m\u001b[0;34m.\u001b[0m\u001b[0mLine\u001b[0m\u001b[0;34m.\u001b[0m\u001b[0misbubble\u001b[0m\u001b[0;34m(\u001b[0m\u001b[0mo\u001b[0m\u001b[0;34m)\u001b[0m\u001b[0;34m:\u001b[0m\u001b[0;34m\u001b[0m\u001b[0m\n\u001b[1;32m     60\u001b[0m                 \u001b[0mself\u001b[0m\u001b[0;34m[\u001b[0m\u001b[0mn\u001b[0m\u001b[0;34m]\u001b[0m \u001b[0;34m=\u001b[0m \u001b[0mo\u001b[0m\u001b[0;34m\u001b[0m\u001b[0m\n",
      "\u001b[0;31mAttributeError\u001b[0m: 'NoneType' object has no attribute '__dict__'"
     ]
    }
   ],
   "source": [
    "import abjad\n",
    "from calliope import bubbles, tools, machines\n",
    "from calliope.sandbox.bubble_test_staves import MyScore\n",
    "\n",
    "# TO DO... \n",
    "# - 1-based indices (e.g. for measures)\n",
    "# - move indexed data into calliope\n",
    "\n",
    "# from test2 import *\n",
    "\n",
    "class BaseLine0(bubbles.Line):\n",
    "    # metrical_durations=ID1({\n",
    "    #     1:((3,4),),\n",
    "    #     },\n",
    "    #     limit = 12\n",
    "    #     )\n",
    "    pass\n",
    "\n",
    "# class Violin1(BaseLine0, bubbles.Arrange):\n",
    "class Violin1(BaseLine0):\n",
    "    music_string = \"\"\" d'2 e'2 \"\"\"\n",
    "\n",
    "class Violin2(BaseLine0):\n",
    "    music = bubbles.Line(\"\"\" c1 \"\"\")\n",
    "\n",
    "class Viola(BaseLine0):\n",
    "    music = bubbles.Line(\"\"\" c1 \"\"\")\n",
    "\n",
    "class Cello(BaseLine0):\n",
    "    music = bubbles.Line(\"\"\" c1 \"\"\")\n",
    "\n",
    "class MyScore1(bubbles.Score):\n",
    "    class Violin2(bubbles.Staff):\n",
    "        pass\n",
    "    # Violin2 = bubbles.Staff()\n",
    "    # Violin2.instrument=abjad.instrumenttools.Violin(\n",
    "    #         instrument_name=\"Violin 2\", short_instrument_name=\"vln.2\")\n",
    "    pass\n",
    "\n",
    "\n",
    "# import sys\n",
    "# print(sys.modules[__name__])\n",
    "# m = bubbles.ModuleBubble( module=sys.modules[__name__] )\n",
    "# print(m.sequence() )\n",
    "\n",
    "# -------------------------------\n",
    "\n",
    "tools.illustrate_me(score_type=MyScore1 )\n",
    "\n"
   ]
  },
  {
   "cell_type": "code",
   "execution_count": null,
   "metadata": {
    "collapsed": true
   },
   "outputs": [],
   "source": []
  },
  {
   "cell_type": "code",
   "execution_count": null,
   "metadata": {
    "collapsed": true
   },
   "outputs": [],
   "source": []
  }
 ],
 "metadata": {
  "kernelspec": {
   "display_name": "Python 3",
   "language": "python",
   "name": "python3"
  },
  "language_info": {
   "codemirror_mode": {
    "name": "ipython",
    "version": 3
   },
   "file_extension": ".py",
   "mimetype": "text/x-python",
   "name": "python",
   "nbconvert_exporter": "python",
   "pygments_lexer": "ipython3",
   "version": "3.6.0"
  }
 },
 "nbformat": 4,
 "nbformat_minor": 2
}
